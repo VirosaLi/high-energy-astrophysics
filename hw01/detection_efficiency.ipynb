{
 "cells": [
  {
   "cell_type": "code",
   "execution_count": 17,
   "metadata": {
    "collapsed": true,
    "pycharm": {
     "is_executing": false
    }
   },
   "outputs": [],
   "source": [
    "import numpy as np\n",
    "import pandas as pd\n",
    "from scipy.interpolate import interp1d\n",
    "import matplotlib.pyplot as plt"
   ]
  },
  {
   "cell_type": "code",
   "execution_count": 36,
   "outputs": [],
   "source": [
    "rho_cd = 8.65\n",
    "rho_zn = 7.14\n",
    "rho_te = 6.24\n",
    "\n",
    "rho_czt = rho_cd * 0.45 + rho_zn * 0.05 + rho_te * 0.5\n",
    "\n",
    "l_czt = 0.8 / 10"
   ],
   "metadata": {
    "collapsed": false,
    "pycharm": {
     "name": "#%%\n",
     "is_executing": false
    }
   }
  },
  {
   "cell_type": "code",
   "execution_count": 7,
   "outputs": [
    {
     "data": {
      "text/plain": "    Photon Energy  Tot. w/ Coherent\n0        0.001000        7603.00000\n1        0.001003        7553.00000\n2        0.001006        7505.00000\n3        0.001006        7682.00000\n4        0.001013        7567.00000\n..            ...               ...\n67       6.000000           0.03528\n68       7.000000           0.03587\n69       8.000000           0.03659\n70       9.000000           0.03739\n71      10.000000           0.03823\n\n[72 rows x 2 columns]",
      "text/html": "<div>\n<style scoped>\n    .dataframe tbody tr th:only-of-type {\n        vertical-align: middle;\n    }\n\n    .dataframe tbody tr th {\n        vertical-align: top;\n    }\n\n    .dataframe thead th {\n        text-align: right;\n    }\n</style>\n<table border=\"1\" class=\"dataframe\">\n  <thead>\n    <tr style=\"text-align: right;\">\n      <th></th>\n      <th>Photon Energy</th>\n      <th>Tot. w/ Coherent</th>\n    </tr>\n  </thead>\n  <tbody>\n    <tr>\n      <th>0</th>\n      <td>0.001000</td>\n      <td>7603.00000</td>\n    </tr>\n    <tr>\n      <th>1</th>\n      <td>0.001003</td>\n      <td>7553.00000</td>\n    </tr>\n    <tr>\n      <th>2</th>\n      <td>0.001006</td>\n      <td>7505.00000</td>\n    </tr>\n    <tr>\n      <th>3</th>\n      <td>0.001006</td>\n      <td>7682.00000</td>\n    </tr>\n    <tr>\n      <th>4</th>\n      <td>0.001013</td>\n      <td>7567.00000</td>\n    </tr>\n    <tr>\n      <th>...</th>\n      <td>...</td>\n      <td>...</td>\n    </tr>\n    <tr>\n      <th>67</th>\n      <td>6.000000</td>\n      <td>0.03528</td>\n    </tr>\n    <tr>\n      <th>68</th>\n      <td>7.000000</td>\n      <td>0.03587</td>\n    </tr>\n    <tr>\n      <th>69</th>\n      <td>8.000000</td>\n      <td>0.03659</td>\n    </tr>\n    <tr>\n      <th>70</th>\n      <td>9.000000</td>\n      <td>0.03739</td>\n    </tr>\n    <tr>\n      <th>71</th>\n      <td>10.000000</td>\n      <td>0.03823</td>\n    </tr>\n  </tbody>\n</table>\n<p>72 rows × 2 columns</p>\n</div>"
     },
     "metadata": {},
     "output_type": "execute_result",
     "execution_count": 7
    }
   ],
   "source": [
    "data = pd.read_csv('data/xl_calibur', sep='\\t')\n",
    "data"
   ],
   "metadata": {
    "collapsed": false,
    "pycharm": {
     "name": "#%%\n",
     "is_executing": false
    }
   }
  },
  {
   "cell_type": "code",
   "execution_count": 39,
   "outputs": [],
   "source": [
    "x = data['Photon Energy'].to_numpy()\n",
    "y = data['Tot. w/ Coherent'].to_numpy()\n",
    "\n",
    "y = 1 - np.exp(-y * rho_czt * l_czt)\n",
    "\n",
    "e_min = np.min(x)\n",
    "e_max = np.max(x)\n",
    "\n",
    "f = interp1d(x, y)\n",
    "\n",
    "x_interp = np.arange(0.1, e_max)\n",
    "\n",
    "y_interp = f(x_interp)\n",
    "\n"
   ],
   "metadata": {
    "collapsed": false,
    "pycharm": {
     "name": "#%%\n",
     "is_executing": false
    }
   }
  },
  {
   "cell_type": "code",
   "execution_count": 38,
   "outputs": [
    {
     "data": {
      "text/plain": "[<matplotlib.lines.Line2D at 0xb20e2b310>]"
     },
     "metadata": {},
     "output_type": "execute_result",
     "execution_count": 38
    },
    {
     "data": {
      "text/plain": "<Figure size 432x288 with 1 Axes>",
      "image/png": "[encoded data removed]"
     },
     "metadata": {
      "needs_background": "light"
     },
     "output_type": "display_data"
    }
   ],
   "source": [
    "plt.loglog(x_interp, y_interp)\n"
   ],
   "metadata": {
    "collapsed": false,
    "pycharm": {
     "name": "#%%\n",
     "is_executing": false
    }
   }
  }
 ],
 "metadata": {
  "kernelspec": {
   "display_name": "Python 3",
   "language": "python",
   "name": "python3"
  },
  "language_info": {
   "codemirror_mode": {
    "name": "ipython",
    "version": 2
   },
   "file_extension": ".py",
   "mimetype": "text/x-python",
   "name": "python",
   "nbconvert_exporter": "python",
   "pygments_lexer": "ipython2",
   "version": "2.7.6"
  },
  "pycharm": {
   "stem_cell": {
    "cell_type": "raw",
    "source": [],
    "metadata": {
     "collapsed": false
    }
   }
  }
 },
 "nbformat": 4,
 "nbformat_minor": 0
}
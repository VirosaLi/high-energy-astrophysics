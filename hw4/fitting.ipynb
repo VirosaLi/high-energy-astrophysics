{
 "cells": [
  {
   "cell_type": "code",
   "execution_count": 46,
   "metadata": {
    "collapsed": true,
    "pycharm": {
     "is_executing": false
    }
   },
   "outputs": [],
   "source": [
    "import numpy as np\n",
    "from scipy.integrate import quad\n",
    "import matplotlib.pyplot as plt"
   ]
  },
  {
   "cell_type": "code",
   "execution_count": 47,
   "outputs": [],
   "source": [
    "dNde = lambda en, norm, gamma, line, line_energy, sigma: \\\n",
    "    norm * en**(-gamma) + line / np.sqrt(2*np.pi) / sigma * np.exp(-1 / 2 * (en-line_energy)**2 / sigma**2)\n",
    "\n",
    "pl = lambda en, norm, gamma: norm * en**(-gamma)"
   ],
   "metadata": {
    "collapsed": false,
    "pycharm": {
     "name": "#%%\n",
     "is_executing": false
    }
   }
  },
  {
   "cell_type": "code",
   "execution_count": 48,
   "outputs": [],
   "source": [
    "model_norm = 1000\n",
    "model_gamma = 2.1\n",
    "model_line = 100\n",
    "model_line_energy = 5\n",
    "model_sigma = 0.5\n",
    "\n",
    "model = lambda x_: dNde(x_, model_norm, model_gamma, model_line, model_line_energy, model_sigma)\n",
    "\n",
    "x = np.linspace(0.1, 10)\n",
    "\n",
    "y = model(x)"
   ],
   "metadata": {
    "collapsed": false,
    "pycharm": {
     "name": "#%%\n",
     "is_executing": false
    }
   }
  },
  {
   "cell_type": "code",
   "execution_count": 49,
   "outputs": [
    {
     "data": {
      "text/plain": "<Figure size 432x288 with 1 Axes>",
      "image/png": "[encoded data removed]"
     },
     "metadata": {
      "needs_background": "light"
     },
     "output_type": "display_data"
    }
   ],
   "source": [
    "plt.plot(x, y)\n",
    "plt.ylim(0, 800)\n",
    "plt.show()"
   ],
   "metadata": {
    "collapsed": false,
    "pycharm": {
     "name": "#%%\n",
     "is_executing": false
    }
   }
  },
  {
   "cell_type": "code",
   "execution_count": 50,
   "outputs": [],
   "source": [
    "num_bin = 40\n",
    "x_lower = 0.5\n",
    "x_upper = 10\n",
    "delta = (x_upper-x_lower) / num_bin\n",
    "sim_spectrum = []\n",
    "plot_spectrum = []\n",
    "\n",
    "for i in range(1, num_bin+1):\n",
    "    \n",
    "    x = x_lower + delta * (i - 0.5)\n",
    "    x_a = x_lower + delta * (i - 1)\n",
    "    x_b = x_lower + delta * i\n",
    "    value = quad(model, x_a, x_b)\n",
    "    sd = np.sqrt(value)\n",
    "    \n",
    "    # error_gaussian = np.random.normal(0, sd)\n",
    "    # sim_value = value + error_gaussian\n",
    "    \n",
    "    sim_value = np.random.poisson(value)[0]\n",
    "    sim_error = np.sqrt(sim_value)\n",
    "    \n",
    "    sim_spectrum.append([x, sim_value, sim_error])\n",
    "    \n",
    "sim_spectrum = np.array(sim_spectrum)"
   ],
   "metadata": {
    "collapsed": false,
    "pycharm": {
     "name": "#%%\n",
     "is_executing": false
    }
   }
  },
  {
   "cell_type": "code",
   "execution_count": 54,
   "outputs": [
    {
     "data": {
      "text/plain": "<Figure size 432x288 with 1 Axes>",
      "image/png": "[encoded data removed]"
     },
     "metadata": {
      "needs_background": "light"
     },
     "output_type": "display_data"
    }
   ],
   "source": [
    "# print(sim_spectrum[:, 0])\n",
    "plt.errorbar(sim_spectrum[:, 0], sim_spectrum[:, 1], yerr=sim_spectrum[:, 2], fmt='.')\n",
    "# plt.xscale('log')\n",
    "# plt.yscale('log')\n",
    "plt.ylim(0, 180)\n",
    "plt.xlabel('Energy [keV]')\n",
    "plt.ylabel('cts')\n",
    "plt.show()\n",
    "\n"
   ],
   "metadata": {
    "collapsed": false,
    "pycharm": {
     "name": "#%%\n",
     "is_executing": false
    }
   }
  }
 ],
 "metadata": {
  "kernelspec": {
   "display_name": "Python 3",
   "language": "python",
   "name": "python3"
  },
  "language_info": {
   "codemirror_mode": {
    "name": "ipython",
    "version": 2
   },
   "file_extension": ".py",
   "mimetype": "text/x-python",
   "name": "python",
   "nbconvert_exporter": "python",
   "pygments_lexer": "ipython2",
   "version": "2.7.6"
  },
  "pycharm": {
   "stem_cell": {
    "cell_type": "raw",
    "source": [],
    "metadata": {
     "collapsed": false
    }
   }
  }
 },
 "nbformat": 4,
 "nbformat_minor": 0
}
{
 "cells": [
  {
   "cell_type": "markdown",
   "source": [
    "### Derive the expression for $v$ below Equation (21)\n",
    "\\begin{align*}\n",
    "    v &= \\frac{dE}{dk} \\\\\n",
    "      &= \\frac{d}{dk} \\sqrt{k^2 c^2 + m_{e}^{2}c^4} \\\\\n",
    "      &= \\frac{1}{2} (k^2 c^2 + m_{e}^{2}c^4)^{-\\frac{1}{2}} (2c^2k) \\\\\n",
    "      &= \\frac{c^2k}{(k^2 c^2 + m_{e}^{2}c^4)^{\\frac{1}{2}}} \\\\\n",
    "      &= \\frac{kc^2}{E}\n",
    "\\end{align*}"
   ],
   "metadata": {
    "collapsed": false,
    "pycharm": {
     "name": "#%% md\n"
    }
   }
  },
  {
   "cell_type": "markdown",
   "source": [
    "## Three Cases for EOS\n",
    "\n",
    "1. When $k_F \\ll m_e c$, the kinetic energy is much smaller than the rest mass of the electrons. This is the non-relativistic case.\n",
    "2. When $k_F \\gg m_e c$, the kinetic energy is much greater than the rest mass of the electrons. This is the relativistic case.\n",
    "3. When the compact stars are treated as relativistic pure electron Fermi gas. The energy density coming from electron\n",
    "dominate. Also $k_F \\gg m_e$. This is the ultra-relativistic case."
   ],
   "metadata": {
    "collapsed": false
   }
  },
  {
   "cell_type": "markdown",
   "source": [
    "## Reproduce Figure (1)\n",
    "\n",
    "I tried to solve the coupled differential equation (58) and (60). The solver won't finish."
   ],
   "metadata": {
    "collapsed": false
   }
  },
  {
   "cell_type": "code",
   "execution_count": 7,
   "metadata": {
    "collapsed": true,
    "pycharm": {
     "is_executing": false
    }
   },
   "outputs": [],
   "source": [
    "import numpy as np\n",
    "import matplotlib.pyplot as plt\n",
    "\n",
    "from scipy.constants import pi, G, c, hbar, m_e, m_p\n",
    "from scipy.integrate import solve_ivp"
   ]
  },
  {
   "cell_type": "code",
   "execution_count": 8,
   "outputs": [],
   "source": [
    "# constants\n",
    "solar_mass = 1.98847e30 # kg\n",
    "r_0 = G * solar_mass / c**2 / 1000 # km\n",
    "gamma_nr = 5/3\n",
    "p_0_nr = 2.33002e22 # dyne/cm^2\n",
    "k_nr = hbar**2 / (15*pi**2 * m_e) * ( 3*pi**2 / (m_p * c**2 * 2) )**gamma_nr"
   ],
   "metadata": {
    "collapsed": false,
    "pycharm": {
     "name": "#%%\n",
     "is_executing": false
    }
   }
  },
  {
   "cell_type": "code",
   "execution_count": 9,
   "outputs": [],
   "source": [
    "def eos(t, y):\n",
    "    p = y[0]\n",
    "    m = y[1]\n",
    "    \n",
    "    dp_dr = r_0 * p**(1/gamma_nr) * m / (t**2 * k_nr / gamma_nr)\n",
    "    dm_dr = 4 * pi * t**2 / (solar_mass * c**2) * (p/k_nr)**(1/gamma_nr)\n",
    "    \n",
    "    return [dp_dr, dm_dr]"
   ],
   "metadata": {
    "collapsed": false,
    "pycharm": {
     "name": "#%%\n",
     "is_executing": false
    }
   }
  },
  {
   "cell_type": "code",
   "execution_count": null,
   "outputs": [
    {
     "name": "stderr",
     "text": [
      "/home/fangchenli/miniconda3/envs/data/lib/python3.7/site-packages/ipykernel_launcher.py:5: RuntimeWarning: invalid value encountered in double_scalars\n",
      "  \"\"\"\n"
     ],
     "output_type": "stream"
    }
   ],
   "source": [
    "r = np.linspace(0, 12000)\n",
    "\n",
    "sol = solve_ivp(eos, r, [p_0_nr, 0], method='RK23')\n",
    "\n"
   ],
   "metadata": {
    "collapsed": false,
    "pycharm": {
     "name": "#%%\n",
     "is_executing": true
    }
   }
  }
 ],
 "metadata": {
  "kernelspec": {
   "display_name": "Python 3",
   "language": "python",
   "name": "python3"
  },
  "language_info": {
   "codemirror_mode": {
    "name": "ipython",
    "version": 2
   },
   "file_extension": ".py",
   "mimetype": "text/x-python",
   "name": "python",
   "nbconvert_exporter": "python",
   "pygments_lexer": "ipython2",
   "version": "2.7.6"
  },
  "pycharm": {
   "stem_cell": {
    "cell_type": "raw",
    "source": [
     "\n"
    ],
    "metadata": {
     "collapsed": false
    }
   }
  }
 },
 "nbformat": 4,
 "nbformat_minor": 0
}
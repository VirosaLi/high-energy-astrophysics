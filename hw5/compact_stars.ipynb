{
 "cells": [
  {
   "cell_type": "markdown",
   "source": [
    "### Derive the expression for $v$ below Equation (21)\n",
    "\\begin{align*}\n",
    "    v &= \\frac{dE}{dk} \\\\\n",
    "      &= \\frac{d}{dk} \\sqrt{k^2 c^2 + m_{e}^{2}c^4} \\\\\n",
    "      &= \\frac{1}{2} (k^2 c^2 + m_{e}^{2}c^4)^{-\\frac{1}{2}} (2c^2k) \\\\\n",
    "      &= \\frac{c^2k}{(k^2 c^2 + m_{e}^{2}c^4)^{\\frac{1}{2}}} \\\\\n",
    "      &= \\frac{kc^2}{E}\n",
    "\\end{align*}"
   ],
   "metadata": {
    "collapsed": false,
    "pycharm": {
     "name": "#%% md\n"
    }
   }
  },
  {
   "cell_type": "markdown",
   "source": [
    "## Three Cases for EOS\n",
    "\n",
    "1. When $k_F \\ll m_e c$, the kinetic energy is much smaller than the rest mass of the electrons. This is the non-relativistic case.\n",
    "2. When $k_F \\gg m_e c$, the kinetic energy is much greater than the rest mass of the electrons. This is the relativistic case.\n",
    "3. When the compact stars are treated as relativistic pure electron Fermi gas. The energy density coming from electron\n",
    "dominate. Also $k_F \\gg m_e$. This is the ultra-relativistic case."
   ],
   "metadata": {
    "collapsed": false
   }
  },
  {
   "cell_type": "markdown",
   "source": [
    "## Reproduce Figure (1)\n",
    "\n",
    "I tried to solve the coupled differential equation (58) and (60). The solver won't finish."
   ],
   "metadata": {
    "collapsed": false
   }
  },
  {
   "cell_type": "code",
   "execution_count": 1,
   "metadata": {
    "collapsed": true,
    "pycharm": {
     "is_executing": false
    }
   },
   "outputs": [],
   "source": [
    "import numpy as np\n",
    "import matplotlib.pyplot as plt\n",
    "\n",
    "from scipy.constants import pi\n",
    "from scipy.integrate import solve_ivp"
   ]
  },
  {
   "cell_type": "code",
   "execution_count": 2,
   "outputs": [],
   "source": [
    "# constants\n",
    "G = 6.67259e-8\n",
    "c = 2.997924562e10\n",
    "m_e = 9.1095e-28\n",
    "solar_mass = 1.98847e33\n",
    "hbar = 6.6261e-27\n",
    "m_n = 1.674920e-24\n",
    "\n",
    "r_0 = G * solar_mass / c**2\n",
    "gamma_nr = 5/3\n",
    "p_0_nr = 2.33002e22 # dyne/cm^2\n",
    "k_nr = hbar**2 / (15*pi**2 * m_e) * ( 3*pi**2 / (m_n * c**2 * 2) )**gamma_nr"
   ],
   "metadata": {
    "collapsed": false,
    "pycharm": {
     "name": "#%%\n",
     "is_executing": false
    }
   }
  },
  {
   "cell_type": "code",
   "execution_count": 14,
   "outputs": [],
   "source": [
    "p_factor = r_0 / k_nr**(1/gamma_nr)\n",
    "\n",
    "def eos(t, y):\n",
    "    p = y[0]\n",
    "    m = y[1]\n",
    "    \n",
    "    dp_dr = - p_factor * p**(1/gamma_nr) * m / t**2\n",
    "    dm_dr = 4 * pi * t**2 / (solar_mass * c**2) * (p/k_nr)**(1/gamma_nr)\n",
    "    return [dp_dr, dm_dr]"
   ],
   "metadata": {
    "collapsed": false,
    "pycharm": {
     "name": "#%%\n",
     "is_executing": false
    }
   }
  },
  {
   "cell_type": "code",
   "execution_count": 53,
   "outputs": [],
   "source": [
    "r = np.linspace(0.0000001, 1200000000, 1000)\n",
    "\n",
    "sol = solve_ivp(eos, [r[0], r[-1]], [p_0_nr, 0], dense_output=True)\n"
   ],
   "metadata": {
    "collapsed": false,
    "pycharm": {
     "name": "#%%\n",
     "is_executing": false
    }
   }
  },
  {
   "cell_type": "code",
   "execution_count": 57,
   "outputs": [
    {
     "data": {
      "text/plain": "<Figure size 432x288 with 2 Axes>",
      "image/png": "[encoded data removed]"
     },
     "metadata": {
      "needs_background": "light"
     },
     "output_type": "display_data"
    }
   ],
   "source": [
    "z = sol.sol(r)\n",
    "\n",
    "r = r / 100000 # to km\n",
    "\n",
    "fig, ax1 = plt.subplots()\n",
    "ax1.plot(r, z[0])\n",
    "ax1.set_yscale('log')\n",
    "ax1.set_ylabel('p in dyne/$cm^2$')\n",
    "\n",
    "ax2 = ax1.twinx()\n",
    "ax2.plot(r, z[1])\n",
    "ax2.set_ylabel('m in $M_0$')\n",
    "plt.xlabel('r in km')\n",
    "fig.tight_layout()\n",
    "plt.show()\n"
   ],
   "metadata": {
    "collapsed": false,
    "pycharm": {
     "name": "#%%\n",
     "is_executing": false
    }
   }
  }
 ],
 "metadata": {
  "kernelspec": {
   "display_name": "Python 3",
   "language": "python",
   "name": "python3"
  },
  "language_info": {
   "codemirror_mode": {
    "name": "ipython",
    "version": 2
   },
   "file_extension": ".py",
   "mimetype": "text/x-python",
   "name": "python",
   "nbconvert_exporter": "python",
   "pygments_lexer": "ipython2",
   "version": "2.7.6"
  },
  "pycharm": {
   "stem_cell": {
    "cell_type": "raw",
    "source": [
     "\n"
    ],
    "metadata": {
     "collapsed": false
    }
   }
  }
 },
 "nbformat": 4,
 "nbformat_minor": 0
}
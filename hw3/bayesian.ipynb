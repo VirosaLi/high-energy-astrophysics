{
 "cells": [
  {
   "cell_type": "code",
   "execution_count": 35,
   "metadata": {
    "collapsed": true,
    "pycharm": {
     "is_executing": false
    }
   },
   "outputs": [],
   "source": [
    "import numpy as np\n",
    "from scipy.integrate import quad, dblquad\n",
    "from scipy.optimize import fsolve\n",
    "import matplotlib.pyplot as plt"
   ]
  },
  {
   "cell_type": "code",
   "execution_count": 33,
   "outputs": [
    {
     "name": "stderr",
     "text": [
      "/home/fangchenli/miniconda3/envs/data/lib/python3.7/site-packages/scipy/optimize/minpack.py:162: RuntimeWarning: The iteration is not making good progress, as measured by the \n",
      "  improvement from the last ten iterations.\n",
      "  warnings.warn(msg, RuntimeWarning)\n"
     ],
     "output_type": "stream"
    },
    {
     "data": {
      "text/plain": "<Figure size 432x288 with 1 Axes>",
      "image/png": "[encoded data removed]"
     },
     "metadata": {
      "needs_background": "light"
     },
     "output_type": "display_data"
    }
   ],
   "source": [
    "# Problem #1\n",
    "\n",
    "alpha = 0.1\n",
    "b = 10\n",
    "C = np.arange(0, 21)\n",
    "\n",
    "p_a = lambda a_in, b_in, c_in, n_in: \\\n",
    "    (np.exp(-(a_in+b_in)) * (a_in+b_in)**c_in) / np.math.factorial(c_in) * n_in\n",
    "\n",
    "upper_limits = np.zeros_like(C)\n",
    "for i, c in enumerate(C):\n",
    "    \n",
    "    # calculate the normalization factor\n",
    "    n_inv = quad(p_a, 0, np.Inf, args=(b, c, 1))\n",
    "    n = 1 / n_inv[0]\n",
    "    \n",
    "    # use function solver to find A\n",
    "    func = lambda x: quad(p_a, x, np.Inf, args=(b, c, n))[0] - alpha\n",
    "    upper_limits[i] = fsolve(func, np.array([0]))\n",
    "    \n",
    "plt.plot(C, upper_limits)\n",
    "plt.xlabel('C')\n",
    "plt.ylabel('A')\n",
    "plt.show()"
   ],
   "metadata": {
    "collapsed": false,
    "pycharm": {
     "name": "#%%\n",
     "is_executing": false
    }
   }
  },
  {
   "cell_type": "code",
   "execution_count": 31,
   "outputs": [
    {
     "data": {
      "text/plain": "<Figure size 432x288 with 1 Axes>",
      "image/png": "[encoded data removed]"
     },
     "metadata": {
      "needs_background": "light"
     },
     "output_type": "display_data"
    }
   ],
   "source": [
    "# Problem #2\n",
    "\n",
    "b = 0\n",
    "c = 0\n",
    "\n",
    "p_a_special = lambda a_in: np.exp(-a_in)\n",
    "n_inv = quad(p_a_special, 0, np.Inf)\n",
    "n = 1 / n_inv[0]\n",
    "\n",
    "alpha_line = np.linspace(0.001, 0.5)\n",
    "a_values = -np.log(alpha_line/n)\n",
    "plt.plot(alpha_line, a_values)\n",
    "plt.xlabel('alpha')\n",
    "plt.ylabel('A')\n",
    "plt.show()\n"
   ],
   "metadata": {
    "collapsed": false,
    "pycharm": {
     "name": "#%%\n",
     "is_executing": false
    }
   }
  },
  {
   "cell_type": "code",
   "execution_count": 39,
   "outputs": [
    {
     "name": "stderr",
     "text": [
      "/home/fangchenli/miniconda3/envs/data/lib/python3.7/site-packages/scipy/optimize/minpack.py:162: RuntimeWarning: The iteration is not making good progress, as measured by the \n",
      "  improvement from the last ten iterations.\n",
      "  warnings.warn(msg, RuntimeWarning)\n",
      "/home/fangchenli/miniconda3/envs/data/lib/python3.7/site-packages/ipykernel_launcher.py:8: RuntimeWarning: overflow encountered in exp\n",
      "  \n"
     ],
     "output_type": "stream"
    },
    {
     "data": {
      "text/plain": "<Figure size 432x288 with 1 Axes>",
      "image/png": "[encoded data removed]"
     },
     "metadata": {
      "needs_background": "light"
     },
     "output_type": "display_data"
    }
   ],
   "source": [
    "# Problem #3\n",
    "\n",
    "alpha = 0.1\n",
    "B = 10\n",
    "\n",
    "p_a_bc = lambda a_in, b_in, c_in, b_in_cap, n_in: \\\n",
    "    (np.exp(-(a_in+b_in)) * (a_in+b_in)**c_in) / np.math.factorial(c_in) * \\\n",
    "    (np.exp(-b_in) * (b_in**b_in_cap)) / np.math.factorial(b_in_cap) * n_in \n",
    "\n",
    "upper_limits = np.zeros_like(C)\n",
    "for i, c in enumerate(C):\n",
    "    \n",
    "    # calculate the normalization factor\n",
    "    n_inv = dblquad(p_a_bc, 0, np.Inf, lambda x: 0, lambda x: np.Inf, args=(c, B, 1))\n",
    "    n = 1 / n_inv[0]\n",
    "    \n",
    "    # use function solver to find A\n",
    "    func = lambda y: dblquad(p_a_bc, y, np.Inf, lambda x: 0, lambda x: np.Inf, args=(c, B, n))[0] - alpha\n",
    "    upper_limits[i] = fsolve(func, np.array([0]))\n",
    "\n",
    "plt.scatter(C, upper_limits)\n",
    "plt.xlabel('C')\n",
    "plt.ylabel('A')\n",
    "plt.show()"
   ],
   "metadata": {
    "collapsed": false,
    "pycharm": {
     "name": "#%%\n",
     "is_executing": false
    }
   }
  }
 ],
 "metadata": {
  "kernelspec": {
   "display_name": "Python 3",
   "language": "python",
   "name": "python3"
  },
  "language_info": {
   "codemirror_mode": {
    "name": "ipython",
    "version": 2
   },
   "file_extension": ".py",
   "mimetype": "text/x-python",
   "name": "python",
   "nbconvert_exporter": "python",
   "pygments_lexer": "ipython2",
   "version": "2.7.6"
  },
  "pycharm": {
   "stem_cell": {
    "cell_type": "raw",
    "source": [],
    "metadata": {
     "collapsed": false
    }
   }
  }
 },
 "nbformat": 4,
 "nbformat_minor": 0
}
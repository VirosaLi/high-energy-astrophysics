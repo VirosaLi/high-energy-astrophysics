{
 "cells": [
  {
   "cell_type": "code",
   "execution_count": 41,
   "metadata": {
    "collapsed": true,
    "pycharm": {
     "is_executing": false
    }
   },
   "outputs": [],
   "source": [
    "import numpy as np\n",
    "import pandas as pd\n",
    "from scipy.interpolate import interp1d\n",
    "import matplotlib.pyplot as plt"
   ]
  },
  {
   "cell_type": "code",
   "execution_count": 42,
   "outputs": [],
   "source": [
    "# densities (g/cm^3)\n",
    "rho_cd = 8.65\n",
    "rho_zn = 7.14\n",
    "rho_te = 6.24\n",
    "rho_si = 2.32\n",
    "rho_czt = rho_cd * 0.45 + rho_zn * 0.05 + rho_te * 0.5\n",
    "\n",
    "# length (cm)\n",
    "l_czt_1 = 0.8 / 10 # mm to cm\n",
    "l_czt_2 = 2.0 / 10 # mm to cm\n",
    "l_si_1 = 60 / 10000 # micron to cm\n",
    "l_si_2 = 280 /  10000 # micron to cm\n"
   ],
   "metadata": {
    "collapsed": false,
    "pycharm": {
     "name": "#%%\n",
     "is_executing": false
    }
   }
  },
  {
   "cell_type": "code",
   "execution_count": 43,
   "outputs": [
    {
     "data": {
      "text/plain": "    Photon Energy  Tot. w/ Coherent\n0        0.001000        7603.00000\n1        0.001003        7553.00000\n2        0.001006        7505.00000\n3        0.001006        7682.00000\n4        0.001013        7567.00000\n..            ...               ...\n67       6.000000           0.03528\n68       7.000000           0.03587\n69       8.000000           0.03659\n70       9.000000           0.03739\n71      10.000000           0.03823\n\n[72 rows x 2 columns]",
      "text/html": "<div>\n<style scoped>\n    .dataframe tbody tr th:only-of-type {\n        vertical-align: middle;\n    }\n\n    .dataframe tbody tr th {\n        vertical-align: top;\n    }\n\n    .dataframe thead th {\n        text-align: right;\n    }\n</style>\n<table border=\"1\" class=\"dataframe\">\n  <thead>\n    <tr style=\"text-align: right;\">\n      <th></th>\n      <th>Photon Energy</th>\n      <th>Tot. w/ Coherent</th>\n    </tr>\n  </thead>\n  <tbody>\n    <tr>\n      <th>0</th>\n      <td>0.001000</td>\n      <td>7603.00000</td>\n    </tr>\n    <tr>\n      <th>1</th>\n      <td>0.001003</td>\n      <td>7553.00000</td>\n    </tr>\n    <tr>\n      <th>2</th>\n      <td>0.001006</td>\n      <td>7505.00000</td>\n    </tr>\n    <tr>\n      <th>3</th>\n      <td>0.001006</td>\n      <td>7682.00000</td>\n    </tr>\n    <tr>\n      <th>4</th>\n      <td>0.001013</td>\n      <td>7567.00000</td>\n    </tr>\n    <tr>\n      <th>...</th>\n      <td>...</td>\n      <td>...</td>\n    </tr>\n    <tr>\n      <th>67</th>\n      <td>6.000000</td>\n      <td>0.03528</td>\n    </tr>\n    <tr>\n      <th>68</th>\n      <td>7.000000</td>\n      <td>0.03587</td>\n    </tr>\n    <tr>\n      <th>69</th>\n      <td>8.000000</td>\n      <td>0.03659</td>\n    </tr>\n    <tr>\n      <th>70</th>\n      <td>9.000000</td>\n      <td>0.03739</td>\n    </tr>\n    <tr>\n      <th>71</th>\n      <td>10.000000</td>\n      <td>0.03823</td>\n    </tr>\n  </tbody>\n</table>\n<p>72 rows × 2 columns</p>\n</div>"
     },
     "metadata": {},
     "output_type": "execute_result",
     "execution_count": 43
    }
   ],
   "source": [
    "data_czt = pd.read_csv('data/CZT.tsv', sep='\\t')\n",
    "data_czt"
   ],
   "metadata": {
    "collapsed": false,
    "pycharm": {
     "name": "#%%\n",
     "is_executing": false
    }
   }
  },
  {
   "cell_type": "code",
   "execution_count": 44,
   "outputs": [
    {
     "data": {
      "text/plain": "    Photon Energy  Tot. w/ Coherent\n0        0.001000        1570.00000\n1        0.001500         535.60000\n2        0.001839         309.20000\n3        0.001839        3193.00000\n4        0.002000        2777.00000\n5        0.003000         978.40000\n6        0.004000         452.80000\n7        0.005000         245.10000\n8        0.006000         147.00000\n9        0.008000          64.69000\n10       0.010000          33.88000\n11       0.015000          10.34000\n12       0.020000           4.46300\n13       0.030000           1.43600\n14       0.040000           0.70100\n15       0.050000           0.43850\n16       0.060000           0.32060\n17       0.080000           0.22280\n18       0.100000           0.18350\n19       0.150000           0.14480\n20       0.200000           0.12750\n21       0.300000           0.10820\n22       0.400000           0.09614\n23       0.500000           0.08748\n24       0.600000           0.08078\n25       0.800000           0.07082\n26       1.000000           0.06361\n27       1.022000           0.06293\n28       1.250000           0.05688\n29       1.500000           0.05183\n30       2.000000           0.04481\n31       2.044000           0.04433\n32       3.000000           0.03678\n33       4.000000           0.03240\n34       5.000000           0.02967\n35       6.000000           0.02788\n36       7.000000           0.02663\n37       8.000000           0.02574\n38       9.000000           0.02509\n39      10.000000           0.02462",
      "text/html": "<div>\n<style scoped>\n    .dataframe tbody tr th:only-of-type {\n        vertical-align: middle;\n    }\n\n    .dataframe tbody tr th {\n        vertical-align: top;\n    }\n\n    .dataframe thead th {\n        text-align: right;\n    }\n</style>\n<table border=\"1\" class=\"dataframe\">\n  <thead>\n    <tr style=\"text-align: right;\">\n      <th></th>\n      <th>Photon Energy</th>\n      <th>Tot. w/ Coherent</th>\n    </tr>\n  </thead>\n  <tbody>\n    <tr>\n      <th>0</th>\n      <td>0.001000</td>\n      <td>1570.00000</td>\n    </tr>\n    <tr>\n      <th>1</th>\n      <td>0.001500</td>\n      <td>535.60000</td>\n    </tr>\n    <tr>\n      <th>2</th>\n      <td>0.001839</td>\n      <td>309.20000</td>\n    </tr>\n    <tr>\n      <th>3</th>\n      <td>0.001839</td>\n      <td>3193.00000</td>\n    </tr>\n    <tr>\n      <th>4</th>\n      <td>0.002000</td>\n      <td>2777.00000</td>\n    </tr>\n    <tr>\n      <th>5</th>\n      <td>0.003000</td>\n      <td>978.40000</td>\n    </tr>\n    <tr>\n      <th>6</th>\n      <td>0.004000</td>\n      <td>452.80000</td>\n    </tr>\n    <tr>\n      <th>7</th>\n      <td>0.005000</td>\n      <td>245.10000</td>\n    </tr>\n    <tr>\n      <th>8</th>\n      <td>0.006000</td>\n      <td>147.00000</td>\n    </tr>\n    <tr>\n      <th>9</th>\n      <td>0.008000</td>\n      <td>64.69000</td>\n    </tr>\n    <tr>\n      <th>10</th>\n      <td>0.010000</td>\n      <td>33.88000</td>\n    </tr>\n    <tr>\n      <th>11</th>\n      <td>0.015000</td>\n      <td>10.34000</td>\n    </tr>\n    <tr>\n      <th>12</th>\n      <td>0.020000</td>\n      <td>4.46300</td>\n    </tr>\n    <tr>\n      <th>13</th>\n      <td>0.030000</td>\n      <td>1.43600</td>\n    </tr>\n    <tr>\n      <th>14</th>\n      <td>0.040000</td>\n      <td>0.70100</td>\n    </tr>\n    <tr>\n      <th>15</th>\n      <td>0.050000</td>\n      <td>0.43850</td>\n    </tr>\n    <tr>\n      <th>16</th>\n      <td>0.060000</td>\n      <td>0.32060</td>\n    </tr>\n    <tr>\n      <th>17</th>\n      <td>0.080000</td>\n      <td>0.22280</td>\n    </tr>\n    <tr>\n      <th>18</th>\n      <td>0.100000</td>\n      <td>0.18350</td>\n    </tr>\n    <tr>\n      <th>19</th>\n      <td>0.150000</td>\n      <td>0.14480</td>\n    </tr>\n    <tr>\n      <th>20</th>\n      <td>0.200000</td>\n      <td>0.12750</td>\n    </tr>\n    <tr>\n      <th>21</th>\n      <td>0.300000</td>\n      <td>0.10820</td>\n    </tr>\n    <tr>\n      <th>22</th>\n      <td>0.400000</td>\n      <td>0.09614</td>\n    </tr>\n    <tr>\n      <th>23</th>\n      <td>0.500000</td>\n      <td>0.08748</td>\n    </tr>\n    <tr>\n      <th>24</th>\n      <td>0.600000</td>\n      <td>0.08078</td>\n    </tr>\n    <tr>\n      <th>25</th>\n      <td>0.800000</td>\n      <td>0.07082</td>\n    </tr>\n    <tr>\n      <th>26</th>\n      <td>1.000000</td>\n      <td>0.06361</td>\n    </tr>\n    <tr>\n      <th>27</th>\n      <td>1.022000</td>\n      <td>0.06293</td>\n    </tr>\n    <tr>\n      <th>28</th>\n      <td>1.250000</td>\n      <td>0.05688</td>\n    </tr>\n    <tr>\n      <th>29</th>\n      <td>1.500000</td>\n      <td>0.05183</td>\n    </tr>\n    <tr>\n      <th>30</th>\n      <td>2.000000</td>\n      <td>0.04481</td>\n    </tr>\n    <tr>\n      <th>31</th>\n      <td>2.044000</td>\n      <td>0.04433</td>\n    </tr>\n    <tr>\n      <th>32</th>\n      <td>3.000000</td>\n      <td>0.03678</td>\n    </tr>\n    <tr>\n      <th>33</th>\n      <td>4.000000</td>\n      <td>0.03240</td>\n    </tr>\n    <tr>\n      <th>34</th>\n      <td>5.000000</td>\n      <td>0.02967</td>\n    </tr>\n    <tr>\n      <th>35</th>\n      <td>6.000000</td>\n      <td>0.02788</td>\n    </tr>\n    <tr>\n      <th>36</th>\n      <td>7.000000</td>\n      <td>0.02663</td>\n    </tr>\n    <tr>\n      <th>37</th>\n      <td>8.000000</td>\n      <td>0.02574</td>\n    </tr>\n    <tr>\n      <th>38</th>\n      <td>9.000000</td>\n      <td>0.02509</td>\n    </tr>\n    <tr>\n      <th>39</th>\n      <td>10.000000</td>\n      <td>0.02462</td>\n    </tr>\n  </tbody>\n</table>\n</div>"
     },
     "metadata": {},
     "output_type": "execute_result",
     "execution_count": 44
    }
   ],
   "source": [
    "data_si = pd.read_csv('data/Si.tsv', sep='\\t')\n",
    "data_si"
   ],
   "metadata": {
    "collapsed": false,
    "pycharm": {
     "name": "#%%\n",
     "is_executing": false
    }
   }
  },
  {
   "cell_type": "code",
   "execution_count": 45,
   "outputs": [],
   "source": [
    "x_czt = data_czt['Photon Energy'].to_numpy()\n",
    "y_czt = data_czt['Tot. w/ Coherent'].to_numpy()\n",
    "\n",
    "# detection efficiency\n",
    "y_czt_1 = 1 - np.exp(-y_czt * rho_czt * l_czt_1)\n",
    "y_czt_2 = 1 - np.exp(-y_czt * rho_czt * l_czt_2)\n",
    "\n",
    "# define plot range\n",
    "e_min_czt = np.min(x_czt)\n",
    "e_max_czt = np.max(x_czt)\n",
    "x_interp_czt = np.arange(e_min_czt, e_max_czt)\n",
    "\n",
    "# interpolation\n",
    "f_czt_1 = interp1d(x_czt, y_czt_1)\n",
    "f_czt_2 = interp1d(x_czt, y_czt_2)\n",
    "\n",
    "# interpolated detection efficiency\n",
    "y_czt_interp_1 = f_czt_1(x_interp_czt)\n",
    "y_czt_interp_2 = f_czt_2(x_interp_czt)\n"
   ],
   "metadata": {
    "collapsed": false,
    "pycharm": {
     "name": "#%%\n",
     "is_executing": false
    }
   }
  },
  {
   "cell_type": "code",
   "execution_count": 46,
   "outputs": [],
   "source": [
    "x_si = data_si['Photon Energy'].to_numpy()\n",
    "y_si = data_si['Tot. w/ Coherent'].to_numpy()\n",
    "\n",
    "# detection efficiency\n",
    "y_si_1 = 1 - np.exp(-y_si * rho_si * l_si_1)\n",
    "y_si_2 = 1 - np.exp(-y_si * rho_si * l_si_2)\n",
    "\n",
    "# define plot range\n",
    "e_min_si = np.min(x_si)\n",
    "e_max_si = np.max(x_si)\n",
    "x_interp_si = np.arange(e_min_si, e_max_si)\n",
    "\n",
    "# interpolation\n",
    "f_si_1 = interp1d(x_si, y_si_1)\n",
    "f_si_2 = interp1d(x_si, y_si_2)\n",
    "\n",
    "# interpolated detection efficiency\n",
    "y_si_interp_1 = f_si_1(x_interp_si)\n",
    "y_si_interp_2 = f_si_2(x_interp_si)"
   ],
   "metadata": {
    "collapsed": false,
    "pycharm": {
     "name": "#%%\n",
     "is_executing": false
    }
   }
  },
  {
   "cell_type": "code",
   "execution_count": 51,
   "outputs": [
    {
     "data": {
      "text/plain": "<Figure size 432x288 with 1 Axes>",
      "image/png": "[encoded data removed]"
     },
     "metadata": {
      "needs_background": "light"
     },
     "output_type": "display_data"
    }
   ],
   "source": [
    "# plot\n",
    "plt.loglog(x_interp_czt, y_czt_interp_1, 'b-', label='0.8mm CZT')\n",
    "plt.loglog(x_interp_czt, y_czt_interp_2, 'r-', label='2.0mm CZT')\n",
    "plt.loglog(x_interp_si, y_si_interp_1, 'b--', label=r'$60.0\\mu m$ Si')\n",
    "plt.loglog(x_interp_si, y_si_interp_2, 'r--', label=r'$280.0\\mu m$ Si')\n",
    "plt.xlabel('Energy (MeV)')\n",
    "plt.ylabel('Detection Efficiency')\n",
    "plt.legend()\n",
    "plt.show()\n"
   ],
   "metadata": {
    "collapsed": false,
    "pycharm": {
     "name": "#%%\n",
     "is_executing": false
    }
   }
  }
 ],
 "metadata": {
  "kernelspec": {
   "display_name": "Python 3",
   "language": "python",
   "name": "python3"
  },
  "language_info": {
   "codemirror_mode": {
    "name": "ipython",
    "version": 2
   },
   "file_extension": ".py",
   "mimetype": "text/x-python",
   "name": "python",
   "nbconvert_exporter": "python",
   "pygments_lexer": "ipython2",
   "version": "2.7.6"
  },
  "pycharm": {
   "stem_cell": {
    "cell_type": "raw",
    "source": [],
    "metadata": {
     "collapsed": false
    }
   }
  }
 },
 "nbformat": 4,
 "nbformat_minor": 0
}